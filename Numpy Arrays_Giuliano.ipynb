{
 "cells": [
  {
   "cell_type": "markdown",
   "metadata": {},
   "source": [
    "# Numpy Arrays\n",
    " \n",
    "- Numpy is a linear library for Python \n",
    "\n",
    "- And the reason it's so important for data science with Python is that almost all of the other libraries in the PI data ecosystem rely on PI as one of their main building blocks.\n"
   ]
  },
  {
   "cell_type": "markdown",
   "metadata": {},
   "source": [
    "### Instalation\n",
    "\n",
    "- Exclamation mark means run it as a shell command rather than a notebook command\n",
    "\n",
    "\n",
    "!conda install numpy\n",
    "\n",
    "!pip install numpy"
   ]
  },
  {
   "cell_type": "markdown",
   "metadata": {},
   "source": [
    "### Difference between pip and conda\n",
    "\n",
    "- pip is a package manager that facilitates installation, upgrade, and uninstallation of python packages. It also works with virtual python environments. conda is a package manager for any software (installation, upgrade and uninstallation). It also works with virtual system environments"
   ]
  },
  {
   "cell_type": "markdown",
   "metadata": {},
   "source": [
    "### Vector and Matrices\n",
    "\n",
    "- The empire is essentially come in two flavors either vectors or matrices.\n",
    "\n",
    "- Vectors are strictly one d arrays and matrices are two the two that missional.\n",
    "\n",
    "- We should also note that a matrix can still only have one row or one column.\n",
    "\n",
    "- Vectors or two dimensional matrices but they can both be called arrays.\n"
   ]
  },
  {
   "cell_type": "code",
   "execution_count": 9,
   "metadata": {},
   "outputs": [],
   "source": [
    "# Creating an object to my list\n",
    "\n",
    "my_list = [1,2,3]"
   ]
  },
  {
   "cell_type": "code",
   "execution_count": 7,
   "metadata": {},
   "outputs": [],
   "source": [
    "# Importing numpy library \n",
    "\n",
    "import numpy as np"
   ]
  },
  {
   "cell_type": "code",
   "execution_count": 6,
   "metadata": {},
   "outputs": [
    {
     "data": {
      "text/plain": [
       "array([1, 2, 3])"
      ]
     },
     "execution_count": 6,
     "metadata": {},
     "output_type": "execute_result"
    }
   ],
   "source": [
    "# NowI can cast a normal Python list into an array.\n",
    "\n",
    "np.array(my_list)"
   ]
  },
  {
   "cell_type": "code",
   "execution_count": 11,
   "metadata": {},
   "outputs": [],
   "source": [
    "# Assigning it and then just calling array off of that. \n",
    "\n",
    "arr = np.array(my_list)"
   ]
  },
  {
   "cell_type": "code",
   "execution_count": 13,
   "metadata": {},
   "outputs": [
    {
     "data": {
      "text/plain": [
       "array([1, 2, 3])"
      ]
     },
     "execution_count": 13,
     "metadata": {},
     "output_type": "execute_result"
    }
   ],
   "source": [
    "# Now it will return back a one dimensional array\n",
    "\n",
    "arr"
   ]
  },
  {
   "cell_type": "code",
   "execution_count": 15,
   "metadata": {},
   "outputs": [],
   "source": [
    "# If I want to get a two dimensional array or a matrix.\n",
    "# I can cast a list of lists.\n",
    "\n",
    "my_mat = [[1,2,3],[4,5,6],[7,8,9]]"
   ]
  },
  {
   "cell_type": "code",
   "execution_count": 16,
   "metadata": {},
   "outputs": [
    {
     "data": {
      "text/plain": [
       "[[1, 2, 3], [4, 5, 6], [7, 8, 9]]"
      ]
     },
     "execution_count": 16,
     "metadata": {},
     "output_type": "execute_result"
    }
   ],
   "source": [
    "my_mat"
   ]
  },
  {
   "cell_type": "code",
   "execution_count": 17,
   "metadata": {},
   "outputs": [
    {
     "data": {
      "text/plain": [
       "array([[1, 2, 3],\n",
       "       [4, 5, 6],\n",
       "       [7, 8, 9]])"
      ]
     },
     "execution_count": 17,
     "metadata": {},
     "output_type": "execute_result"
    }
   ],
   "source": [
    "# So notice I get back a list of lists and then if I cast that to an array I will get back a two dimensional\n",
    "# array and that's noted both by the way it's presented as output but also more importantly as the number \n",
    "# of brackets shown on the closing and opening ends of this array.\n",
    "\n",
    "np.array(my_mat)"
   ]
  },
  {
   "cell_type": "markdown",
   "metadata": {},
   "source": [
    "### Notes:\n",
    "\n",
    "I have two sets of brackets which will indicate that Z to that mentionable array has three rows and three columns and that's how you can cast normal Python lists or list of lists to umpire range."
   ]
  },
  {
   "cell_type": "markdown",
   "metadata": {},
   "source": [
    "## np.arange()\n",
    "\n",
    "numpy.arange([start, ]stop, [step, ]dtype=None)\n",
    "\n",
    "So notice you have a start a stop and then a step size is a third argument and the return evenly spaced values within this given interval.\n",
    "\n"
   ]
  },
  {
   "cell_type": "code",
   "execution_count": 21,
   "metadata": {},
   "outputs": [
    {
     "data": {
      "text/plain": [
       "array([0, 1, 2, 3, 4, 5, 6, 7, 8, 9])"
      ]
     },
     "execution_count": 21,
     "metadata": {},
     "output_type": "execute_result"
    }
   ],
   "source": [
    "# So if I just say from 0 to 10 remember just like in Python's range indexing starts at zero.\n",
    "# It will go up to but not including to 10.\n",
    "# I'll get an array back from 0 all the way to 9.\n",
    "\n",
    "np.arange(0,10)"
   ]
  },
  {
   "cell_type": "markdown",
   "metadata": {},
   "source": [
    "### Notes:\n",
    "\n",
    "Note the brackets and parentheses in this case just one square brackets because it's not a list"
   ]
  },
  {
   "cell_type": "code",
   "execution_count": 24,
   "metadata": {},
   "outputs": [
    {
     "data": {
      "text/plain": [
       "array([ 0,  1,  2,  3,  4,  5,  6,  7,  8,  9, 10])"
      ]
     },
     "execution_count": 24,
     "metadata": {},
     "output_type": "execute_result"
    }
   ],
   "source": [
    "# So I want to go from zero all the way to 10 after Z. I have to say zero comma 11 and that's what I get back out.\n",
    "\n",
    "np.arange(0,11)"
   ]
  },
  {
   "cell_type": "code",
   "execution_count": 27,
   "metadata": {},
   "outputs": [
    {
     "data": {
      "text/plain": [
       "array([ 0,  2,  4,  6,  8, 10])"
      ]
     },
     "execution_count": 27,
     "metadata": {},
     "output_type": "execute_result"
    }
   ],
   "source": [
    "# And then at a step size of two so that I'd jump in steps of 2 0 2 4 6 8 10.\n",
    "\n",
    "np.arange(0,11,2)"
   ]
  },
  {
   "cell_type": "code",
   "execution_count": 28,
   "metadata": {},
   "outputs": [
    {
     "data": {
      "text/plain": [
       "array([0., 0., 0.])"
      ]
     },
     "execution_count": 28,
     "metadata": {},
     "output_type": "execute_result"
    }
   ],
   "source": [
    "# For instance if you want to generate arrays of all zeros you can pass in a single digit.\n",
    "\n",
    "np.zeros(3)"
   ]
  },
  {
   "cell_type": "code",
   "execution_count": 31,
   "metadata": {},
   "outputs": [
    {
     "data": {
      "text/plain": [
       "array([[0., 0., 0., 0., 0.],\n",
       "       [0., 0., 0., 0., 0.],\n",
       "       [0., 0., 0., 0., 0.],\n",
       "       [0., 0., 0., 0., 0.],\n",
       "       [0., 0., 0., 0., 0.]])"
      ]
     },
     "execution_count": 31,
     "metadata": {},
     "output_type": "execute_result"
    }
   ],
   "source": [
    "# Using tupples of dimensions \n",
    "# you want the first number is going to represent the number of rows and the second number \n",
    "# in that tuple is going to represent the number of columns.\n",
    "\n",
    "np.zeros([5,5])"
   ]
  },
  {
   "cell_type": "code",
   "execution_count": 32,
   "metadata": {},
   "outputs": [
    {
     "data": {
      "text/plain": [
       "array([1., 1., 1., 1.])"
      ]
     },
     "execution_count": 32,
     "metadata": {},
     "output_type": "execute_result"
    }
   ],
   "source": [
    "# Another example with array of ones\n",
    "\n",
    "np.ones(4)"
   ]
  },
  {
   "cell_type": "code",
   "execution_count": 33,
   "metadata": {},
   "outputs": [
    {
     "data": {
      "text/plain": [
       "array([[1., 1., 1., 1.],\n",
       "       [1., 1., 1., 1.],\n",
       "       [1., 1., 1., 1.]])"
      ]
     },
     "execution_count": 33,
     "metadata": {},
     "output_type": "execute_result"
    }
   ],
   "source": [
    "# Another examples with array of one using tupples\n",
    "\n",
    "np.ones([3,4])"
   ]
  },
  {
   "cell_type": "markdown",
   "metadata": {},
   "source": [
    "### np.linspace\n",
    "\n",
    "What Lin space is going to do is it's actually going to take in a third argument of the number of points you wants me going to show you what I mean by that I can say P Gotland space and I get a pass and a start a stop and there's a third argument I'm going to pass in a number.\n",
    "So let's say I have a start of zero and a stop of five and I want to get 10 evenly spaced points between zero to five.\n",
    "\n",
    "numpy.linspace(start, stop, num=50, endpoint=True, retstep=False, dtype=None, axis=0)"
   ]
  },
  {
   "cell_type": "code",
   "execution_count": 37,
   "metadata": {},
   "outputs": [
    {
     "data": {
      "text/plain": [
       "array([0.        , 0.55555556, 1.11111111, 1.66666667, 2.22222222,\n",
       "       2.77777778, 3.33333333, 3.88888889, 4.44444444, 5.        ])"
      ]
     },
     "execution_count": 37,
     "metadata": {},
     "output_type": "execute_result"
    }
   ],
   "source": [
    "np.linspace(0,5,10)"
   ]
  },
  {
   "cell_type": "markdown",
   "metadata": {},
   "source": [
    "### Notes:\n",
    "\n",
    "I can pass in a third argument 10 and this returns back a one dimensional vector noted by the once set of brackets here of ten evenly spaced points from zero to five and I can change this third argument to whatever number I want.\n",
    "\n",
    "So if I want 100 evenly spaced points from zero to five I can just pass that in and that returns a much larger one dimensional array and keep in mind even though it looks like this is to them as far as the way it's being printed out\n",
    "you can tell it's one dimensional by the fact that there's only one bracket here in front of the array when you're dealing with two dimensions you'll see that you have two sets of brackets on opening or closing at the ends.\n",
    "\n",
    "3d Matrix will have three brackets etc.."
   ]
  },
  {
   "cell_type": "code",
   "execution_count": 39,
   "metadata": {},
   "outputs": [
    {
     "data": {
      "text/plain": [
       "array([0.        , 0.05050505, 0.1010101 , 0.15151515, 0.2020202 ,\n",
       "       0.25252525, 0.3030303 , 0.35353535, 0.4040404 , 0.45454545,\n",
       "       0.50505051, 0.55555556, 0.60606061, 0.65656566, 0.70707071,\n",
       "       0.75757576, 0.80808081, 0.85858586, 0.90909091, 0.95959596,\n",
       "       1.01010101, 1.06060606, 1.11111111, 1.16161616, 1.21212121,\n",
       "       1.26262626, 1.31313131, 1.36363636, 1.41414141, 1.46464646,\n",
       "       1.51515152, 1.56565657, 1.61616162, 1.66666667, 1.71717172,\n",
       "       1.76767677, 1.81818182, 1.86868687, 1.91919192, 1.96969697,\n",
       "       2.02020202, 2.07070707, 2.12121212, 2.17171717, 2.22222222,\n",
       "       2.27272727, 2.32323232, 2.37373737, 2.42424242, 2.47474747,\n",
       "       2.52525253, 2.57575758, 2.62626263, 2.67676768, 2.72727273,\n",
       "       2.77777778, 2.82828283, 2.87878788, 2.92929293, 2.97979798,\n",
       "       3.03030303, 3.08080808, 3.13131313, 3.18181818, 3.23232323,\n",
       "       3.28282828, 3.33333333, 3.38383838, 3.43434343, 3.48484848,\n",
       "       3.53535354, 3.58585859, 3.63636364, 3.68686869, 3.73737374,\n",
       "       3.78787879, 3.83838384, 3.88888889, 3.93939394, 3.98989899,\n",
       "       4.04040404, 4.09090909, 4.14141414, 4.19191919, 4.24242424,\n",
       "       4.29292929, 4.34343434, 4.39393939, 4.44444444, 4.49494949,\n",
       "       4.54545455, 4.5959596 , 4.64646465, 4.6969697 , 4.74747475,\n",
       "       4.7979798 , 4.84848485, 4.8989899 , 4.94949495, 5.        ])"
      ]
     },
     "execution_count": 39,
     "metadata": {},
     "output_type": "execute_result"
    }
   ],
   "source": [
    "# Example \n",
    "\n",
    "np.linspace(0,5,100)"
   ]
  },
  {
   "cell_type": "markdown",
   "metadata": {},
   "source": [
    "### Notes:\n",
    "\n",
    "Again don't confuse space with arrange lint space will take in the third argument as the number of points you want arrange will take in that argument as the step size you want."
   ]
  },
  {
   "cell_type": "markdown",
   "metadata": {},
   "source": [
    "## np.eye\n",
    "\n",
    "numpy.eye(N, M=None, k=0, dtype=<class 'float'>, order='C')\n",
    "\n",
    "If you're not familiar is a useful matrix when you're dealing with linear algebra problems and it's basically just a two dimensional square matrix meaning the number of rows is the same as a number of columns and you have a diagonal of ones that everything else is zeros and that's the reason it only takes a single digit as an argument because it said that the matrix must be square as the output."
   ]
  },
  {
   "cell_type": "markdown",
   "metadata": {},
   "source": [
    "In mathematics, \n",
    "\n",
    "- Square matrix is a matrix with the same number of rows and columns.\n",
    "\n",
    "- Any two square matrices of the same order can be added and multiplied.\n",
    "\n",
    "- Square matrices are often used to represent simple linear transformations, such as shearing or rotation. "
   ]
  },
  {
   "cell_type": "code",
   "execution_count": 41,
   "metadata": {},
   "outputs": [
    {
     "data": {
      "text/plain": [
       "array([[1., 0., 0., 0.],\n",
       "       [0., 1., 0., 0.],\n",
       "       [0., 0., 1., 0.],\n",
       "       [0., 0., 0., 1.]])"
      ]
     },
     "execution_count": 41,
     "metadata": {},
     "output_type": "execute_result"
    }
   ],
   "source": [
    "np.eye(4)"
   ]
  },
  {
   "cell_type": "markdown",
   "metadata": {},
   "source": [
    "## Random sampling (np.random)\n",
    "- .rand\n",
    "- .randn\n",
    "- .randint\n",
    "- .reshape\n",
    "- .max of an array\n",
    "- .min of an array"
   ]
  },
  {
   "cell_type": "markdown",
   "metadata": {},
   "source": [
    "### Notes:\n",
    "\n",
    "https://docs.scipy.org/doc/numpy-1.15.0/reference/routines.random.html"
   ]
  },
  {
   "cell_type": "code",
   "execution_count": 45,
   "metadata": {},
   "outputs": [
    {
     "data": {
      "text/plain": [
       "array([0.18496393, 0.30532364, 0.49541998, 0.19191097, 0.41835672,\n",
       "       0.77830701, 0.21769435, 0.70107514])"
      ]
     },
     "execution_count": 45,
     "metadata": {},
     "output_type": "execute_result"
    }
   ],
   "source": [
    "# And that means if I want just eight one dimensional array of random numbers uniformly distributed \n",
    "# from 0 to 1 I can pass in a single digit and I'll get back that one dimensional array.\n",
    "\n",
    "np.random.rand(8)"
   ]
  },
  {
   "cell_type": "markdown",
   "metadata": {},
   "source": [
    "### Notes:\n",
    "\n",
    "Unlike the previous functions you worked with instead of passing in a tuple. I'll actually just pass in the dimensions as separate arguments.**\n",
    "\n",
    "**So that means if I want a five by five matrix of random numbers I just pass and 5 come a 5 instead of the tuple and working with these random libraries."
   ]
  },
  {
   "cell_type": "code",
   "execution_count": 49,
   "metadata": {},
   "outputs": [
    {
     "data": {
      "text/plain": [
       "array([[0.14942086, 0.40950981, 0.89472106, 0.68434331, 0.69904411],\n",
       "       [0.90750597, 0.94288651, 0.75994059, 0.92964702, 0.90078253],\n",
       "       [0.70594611, 0.38796038, 0.44809204, 0.29931574, 0.74733258],\n",
       "       [0.37437174, 0.7818454 , 0.99276965, 0.86303105, 0.62782869],\n",
       "       [0.67947907, 0.53763181, 0.85543114, 0.49736094, 0.86370028]])"
      ]
     },
     "execution_count": 49,
     "metadata": {},
     "output_type": "execute_result"
    }
   ],
   "source": [
    "np.random.rand(5,5)"
   ]
  },
  {
   "cell_type": "markdown",
   "metadata": {},
   "source": [
    "### Notes:\n",
    "\n",
    "If we want to return a sample or many samples from the standard normal distribution or a Gaussian distribution instead of using .rand we can use .randn and that means will return numbers not from a uniform distribution from 0 to 1 but instead from a standard normal distribution center around zero and that means I can go ahead and pass in two and I get two random numbers from a standard normal distribution."
   ]
  },
  {
   "cell_type": "code",
   "execution_count": 50,
   "metadata": {},
   "outputs": [
    {
     "data": {
      "text/plain": [
       "array([ 0.45472567, -1.26716764])"
      ]
     },
     "execution_count": 50,
     "metadata": {},
     "output_type": "execute_result"
    }
   ],
   "source": [
    "np.random.randn(2)"
   ]
  },
  {
   "cell_type": "code",
   "execution_count": 51,
   "metadata": {},
   "outputs": [
    {
     "data": {
      "text/plain": [
       "array([[-1.3552443 , -0.36273045, -0.28263335,  0.64331931],\n",
       "       [ 0.17109501,  0.49821291,  0.09633377,  0.22065847],\n",
       "       [-1.41692353, -0.10485766,  0.48088293,  0.93804175],\n",
       "       [ 1.11899423, -0.13693252, -1.11581285,  1.36654804]])"
      ]
     },
     "execution_count": 51,
     "metadata": {},
     "output_type": "execute_result"
    }
   ],
   "source": [
    "# If I want it in 2d Array\n",
    "\n",
    "np.random.randn(4,4)"
   ]
  },
  {
   "cell_type": "markdown",
   "metadata": {},
   "source": [
    "### Notes:\n",
    "\n",
    "And no I don't pass a tuple here I just pass in each time mention as a separate argument and I can see by the set of two brackets is a two dimensional matrix as an output and the final random method of creating an array."
   ]
  },
  {
   "cell_type": "code",
   "execution_count": 57,
   "metadata": {},
   "outputs": [
    {
     "data": {
      "text/plain": [
       "8"
      ]
     },
     "execution_count": 57,
     "metadata": {},
     "output_type": "execute_result"
    }
   ],
   "source": [
    "# numpy.random.randint(low, high=None, size=None, dtype=int)\n",
    "\n",
    "np.random.randint(0,10)"
   ]
  },
  {
   "cell_type": "code",
   "execution_count": 59,
   "metadata": {},
   "outputs": [
    {
     "data": {
      "text/plain": [
       "58"
      ]
     },
     "execution_count": 59,
     "metadata": {},
     "output_type": "execute_result"
    }
   ],
   "source": [
    "np.random.randint(0,100)"
   ]
  },
  {
   "cell_type": "code",
   "execution_count": 66,
   "metadata": {},
   "outputs": [
    {
     "data": {
      "text/plain": [
       "array([79, 81,  5, 75, 97,  9, 78, 88, 20, 41, 36, 55, 27, 42, 79,  6,  1,\n",
       "       29, 13, 14, 58, 89,  7, 60, 27,  7, 95, 69, 26,  8, 25, 43, 49, 24,\n",
       "       34, 69, 40, 53,  9, 26, 85,  0, 15, 73, 70,  9, 79, 96, 35, 96, 85,\n",
       "       31, 71,  7, 12, 34, 25, 92, 90, 29, 83, 16, 34, 47, 59, 76, 87, 79,\n",
       "       78, 56, 22, 35, 52, 90, 34, 79, 21, 54, 45,  9,  0, 77, 75, 52, 30,\n",
       "       78, 72, 10,  1,  1, 58,  4, 77, 12, 26, 93, 88,  0, 51, 34, 14, 72,\n",
       "       61, 74, 16, 19, 81, 12,  4, 33, 82, 11, 78, 83, 82, 65, 86, 52, 86,\n",
       "       37, 77,  3, 73, 16, 59, 30, 55, 54, 77, 53, 66, 10, 30, 95, 95,  3,\n",
       "       16, 89, 38, 37, 87, 63, 66, 99, 16, 86, 22, 64, 49,  3, 15, 34, 34,\n",
       "       67, 59, 44, 49, 93, 17, 89, 83, 43, 80, 50, 60, 22,  6, 78, 25,  7,\n",
       "       46,  8, 90, 33, 42, 17, 91,  2, 12,  1, 55, 94, 17, 28, 44, 53, 83,\n",
       "       72, 85, 68, 55, 46,  4, 62, 32, 41, 63,  8, 11, 93, 62, 94,  5, 18,\n",
       "        7, 57, 16, 10, 87, 40, 84, 16,  5, 43, 26, 94, 24, 76, 38, 11,  3,\n",
       "       96, 54, 29, 63, 98, 83, 48, 47, 83, 48, 66, 52, 22, 43, 62, 52, 27,\n",
       "       18, 78, 43, 82, 59, 52, 39, 59, 50, 21, 54, 98, 47, 33, 25,  1, 94,\n",
       "       58, 37, 83, 73, 80,  3, 93, 70, 54, 39, 48, 16, 10, 18, 67, 12, 56,\n",
       "       14, 24, 35, 83, 35, 74, 61, 90, 34, 63, 63, 35,  0, 93, 22, 91, 97,\n",
       "       88, 57, 42,  2,  4,  5, 47, 38, 72, 16, 16, 46, 60, 74, 66, 23, 30,\n",
       "       35, 24, 25, 20, 64, 88, 48, 40, 91, 18, 52, 42, 28, 60,  3, 17,  5,\n",
       "       29, 56, 41, 88, 68, 79, 92, 86, 31, 47, 41, 34, 76, 97, 77,  7, 94,\n",
       "       29, 62,  1, 95, 50, 47, 60, 12, 73, 65, 94, 95, 58, 35, 38, 62, 90,\n",
       "       13, 24, 49, 13, 44, 37, 92, 79,  5,  1,  7, 58,  1,  8, 91, 20, 19,\n",
       "       45, 30, 19, 16, 49,  3,  8, 32, 43, 78, 13, 37, 87, 79, 16, 33, 84,\n",
       "       65, 88, 21, 50, 33, 88, 24,  8, 41,  2, 27, 92, 70, 33, 98, 84, 91,\n",
       "       81, 28, 71, 78, 97, 56, 47, 95, 89, 12,  0, 11, 85, 63, 82, 22, 56,\n",
       "       39, 40, 23,  5, 52, 42, 37, 94, 14, 94, 24, 61, 17,  1, 83, 10, 26,\n",
       "       19,  7, 25, 72, 68, 58, 42, 97,  8, 80, 41, 24, 82, 28, 37, 83, 93,\n",
       "       65,  9, 39,  5, 25, 95,  5, 96, 68, 81, 88, 99, 97, 73, 41, 65, 81,\n",
       "        3, 32, 76, 21, 68, 67, 65, 30, 30, 22, 70, 15, 85, 57, 55, 79, 59,\n",
       "       19,  9, 95, 24,  6, 22, 15])"
      ]
     },
     "execution_count": 66,
     "metadata": {},
     "output_type": "execute_result"
    }
   ],
   "source": [
    "# with 500 random numbers \n",
    "\n",
    "np.random.randint(0,100,500)"
   ]
  },
  {
   "cell_type": "markdown",
   "metadata": {},
   "source": [
    "### Notes:\n",
    "\n",
    "The high x exclusive meaning one has the chance of being selected but 100 is not and if you want a particular number of random integers you can pass them in as a third argument.\n",
    "\n",
    "So from to random integers from 1 to 100 but not including 100 and I can just pass and 10 there and there are 10 random integers inclusive on the low in an exclusive on the high end."
   ]
  },
  {
   "cell_type": "markdown",
   "metadata": {},
   "source": [
    "arr = np.array(25)"
   ]
  },
  {
   "cell_type": "code",
   "execution_count": 67,
   "metadata": {},
   "outputs": [],
   "source": [
    "arr = np.arange(25)"
   ]
  },
  {
   "cell_type": "code",
   "execution_count": 68,
   "metadata": {},
   "outputs": [
    {
     "data": {
      "text/plain": [
       "array([ 0,  1,  2,  3,  4,  5,  6,  7,  8,  9, 10, 11, 12, 13, 14, 15, 16,\n",
       "       17, 18, 19, 20, 21, 22, 23, 24])"
      ]
     },
     "execution_count": 68,
     "metadata": {},
     "output_type": "execute_result"
    }
   ],
   "source": [
    "arr "
   ]
  },
  {
   "cell_type": "code",
   "execution_count": 71,
   "metadata": {},
   "outputs": [],
   "source": [
    "ranarr = np.random.randint(0,50,10)"
   ]
  },
  {
   "cell_type": "code",
   "execution_count": 72,
   "metadata": {},
   "outputs": [
    {
     "data": {
      "text/plain": [
       "array([35,  9, 13, 26, 33, 16, 41, 14, 42, 34])"
      ]
     },
     "execution_count": 72,
     "metadata": {},
     "output_type": "execute_result"
    }
   ],
   "source": [
    "ranarr"
   ]
  },
  {
   "cell_type": "code",
   "execution_count": 73,
   "metadata": {},
   "outputs": [
    {
     "data": {
      "text/plain": [
       "array([[ 0,  1,  2,  3,  4],\n",
       "       [ 5,  6,  7,  8,  9],\n",
       "       [10, 11, 12, 13, 14],\n",
       "       [15, 16, 17, 18, 19],\n",
       "       [20, 21, 22, 23, 24]])"
      ]
     },
     "execution_count": 73,
     "metadata": {},
     "output_type": "execute_result"
    }
   ],
   "source": [
    "arr.reshape(5,5)"
   ]
  },
  {
   "cell_type": "code",
   "execution_count": 74,
   "metadata": {},
   "outputs": [
    {
     "data": {
      "text/plain": [
       "array([[35,  9, 13, 26, 33],\n",
       "       [16, 41, 14, 42, 34]])"
      ]
     },
     "execution_count": 74,
     "metadata": {},
     "output_type": "execute_result"
    }
   ],
   "source": [
    "ranarr.reshape(2,5)"
   ]
  },
  {
   "cell_type": "markdown",
   "metadata": {},
   "source": [
    "### Notes:\n",
    "\n",
    "So for example if I want to reshape that arrayis twenty five digits zero to 24. I can reshape it as a 5 by 5 array using reshape and then passen the number of rows you want and the number of columns.\n",
    "\n",
    "Keep in mind you'll get an error if you can't fill up that matrix completely. So for example if I wanted 5 by 10 I would need 50 elements to do that and I'm going to get an error here because the total size of the new array must be unchanged, meaning you need to fill up using only the digits you have or the elements you have a nice simple way to check this is that the number of rows times the number of columns is equal to the actual number of elements so five times five is equal to 25 and I know I have 25 elements in this array."
   ]
  },
  {
   "cell_type": "code",
   "execution_count": 103,
   "metadata": {},
   "outputs": [
    {
     "name": "stdout",
     "output_type": "stream",
     "text": [
      "Max value for arr: 24\n",
      "Min value for arr: 0\n"
     ]
    }
   ],
   "source": [
    "# max and min for arr\n",
    "\n",
    "arr.max()\n",
    "arr.min()\n",
    "\n",
    "print(\"Max value for arr: {}\".format(arr.max()))\n",
    "print(\"Min value for arr: {}\".format(arr.min()))"
   ]
  },
  {
   "cell_type": "code",
   "execution_count": 102,
   "metadata": {},
   "outputs": [
    {
     "name": "stdout",
     "output_type": "stream",
     "text": [
      "Max value for ranarr: 42\n",
      "Min value for ranarr: 9\n"
     ]
    }
   ],
   "source": [
    "# max and min for ranarr\n",
    "ranarr.max()\n",
    "ranarr.min()\n",
    "\n",
    "print(\"Max value for ranarr: {}\".format(ranarr.max()))\n",
    "print(\"Min value for ranarr: {}\".format(ranarr.min()))"
   ]
  },
  {
   "cell_type": "markdown",
   "metadata": {},
   "source": [
    "### Notes: \n",
    "\n",
    "We can actually figure out the location of the max or min values by specifying our max or min.\n",
    "\n",
    "Meaning if I want to actually know what index value is this Max located at 49 I can say .argmax and that will return the index location of the max value."
   ]
  },
  {
   "cell_type": "code",
   "execution_count": 104,
   "metadata": {},
   "outputs": [
    {
     "data": {
      "text/plain": [
       "array([35,  9, 13, 26, 33, 16, 41, 14, 42, 34])"
      ]
     },
     "execution_count": 104,
     "metadata": {},
     "output_type": "execute_result"
    }
   ],
   "source": [
    "ranarr"
   ]
  },
  {
   "cell_type": "code",
   "execution_count": 106,
   "metadata": {},
   "outputs": [
    {
     "data": {
      "text/plain": [
       "8"
      ]
     },
     "execution_count": 106,
     "metadata": {},
     "output_type": "execute_result"
    }
   ],
   "source": [
    "# Return the positions of the max number\n",
    "\n",
    "ranarr.argmax()"
   ]
  },
  {
   "cell_type": "code",
   "execution_count": 107,
   "metadata": {},
   "outputs": [
    {
     "data": {
      "text/plain": [
       "42"
      ]
     },
     "execution_count": 107,
     "metadata": {},
     "output_type": "execute_result"
    }
   ],
   "source": [
    "ranarr.max()"
   ]
  },
  {
   "cell_type": "markdown",
   "metadata": {},
   "source": [
    "Python starts counting from zero so it's at eight position"
   ]
  },
  {
   "cell_type": "code",
   "execution_count": 109,
   "metadata": {},
   "outputs": [
    {
     "data": {
      "text/plain": [
       "1"
      ]
     },
     "execution_count": 109,
     "metadata": {},
     "output_type": "execute_result"
    }
   ],
   "source": [
    "# Return the positions of the min number\n",
    "\n",
    "ranarr.argmin()"
   ]
  },
  {
   "cell_type": "code",
   "execution_count": 112,
   "metadata": {},
   "outputs": [
    {
     "data": {
      "text/plain": [
       "(25,)"
      ]
     },
     "execution_count": 112,
     "metadata": {},
     "output_type": "execute_result"
    }
   ],
   "source": [
    "# Shows what type of vector it's \n",
    "# 1d\n",
    "# 2d\n",
    "# 3d\n",
    "\n",
    "arr.shape"
   ]
  },
  {
   "cell_type": "markdown",
   "metadata": {},
   "source": [
    "If you ever want to figure out the shape of the vector you can say are shaped in a low return back the shape. Notice here I get 25 comma and that's indicating that arr array was just a one dimensional vector"
   ]
  },
  {
   "cell_type": "code",
   "execution_count": 113,
   "metadata": {},
   "outputs": [],
   "source": [
    "# If you ever want to reshape to a new dimensional\n",
    "\n",
    "arr = arr.reshape(5,5)"
   ]
  },
  {
   "cell_type": "code",
   "execution_count": 114,
   "metadata": {},
   "outputs": [
    {
     "data": {
      "text/plain": [
       "array([[ 0,  1,  2,  3,  4],\n",
       "       [ 5,  6,  7,  8,  9],\n",
       "       [10, 11, 12, 13, 14],\n",
       "       [15, 16, 17, 18, 19],\n",
       "       [20, 21, 22, 23, 24]])"
      ]
     },
     "execution_count": 114,
     "metadata": {},
     "output_type": "execute_result"
    }
   ],
   "source": [
    "arr"
   ]
  },
  {
   "cell_type": "code",
   "execution_count": 115,
   "metadata": {},
   "outputs": [
    {
     "data": {
      "text/plain": [
       "dtype('int64')"
      ]
     },
     "execution_count": 115,
     "metadata": {},
     "output_type": "execute_result"
    }
   ],
   "source": [
    "# If you're ever curious of what data type you have an array you can just say arr and type as an attribute \n",
    "#  dtype in it will return the actual data type that's in your way.\n",
    "\n",
    "arr.dtype"
   ]
  },
  {
   "cell_type": "markdown",
   "metadata": {},
   "source": [
    "**If you ever want to stopping type in np.random you can import np.random from numpy.random**\n"
   ]
  },
  {
   "cell_type": "code",
   "execution_count": 128,
   "metadata": {},
   "outputs": [],
   "source": [
    "from numpy.random import randint\n",
    "from numpy.random import randn\n"
   ]
  },
  {
   "cell_type": "code",
   "execution_count": 129,
   "metadata": {},
   "outputs": [
    {
     "data": {
      "text/plain": [
       "array([55, 44, 23, 34, 55])"
      ]
     },
     "execution_count": 129,
     "metadata": {},
     "output_type": "execute_result"
    }
   ],
   "source": [
    "randint(0,100,5)"
   ]
  },
  {
   "cell_type": "code",
   "execution_count": 130,
   "metadata": {},
   "outputs": [
    {
     "data": {
      "text/plain": [
       "array([-0.07875488, -0.17044566, -0.05047618, -0.71093055, -0.18384711,\n",
       "       -0.45826934,  0.99022179, -0.44622269, -1.83841807, -1.3080084 ])"
      ]
     },
     "execution_count": 130,
     "metadata": {},
     "output_type": "execute_result"
    }
   ],
   "source": [
    "randn(10)"
   ]
  },
  {
   "cell_type": "code",
   "execution_count": null,
   "metadata": {},
   "outputs": [],
   "source": []
  }
 ],
 "metadata": {
  "kernelspec": {
   "display_name": "Python 3",
   "language": "python",
   "name": "python3"
  },
  "language_info": {
   "codemirror_mode": {
    "name": "ipython",
    "version": 3
   },
   "file_extension": ".py",
   "mimetype": "text/x-python",
   "name": "python",
   "nbconvert_exporter": "python",
   "pygments_lexer": "ipython3",
   "version": "3.7.6"
  }
 },
 "nbformat": 4,
 "nbformat_minor": 4
}
